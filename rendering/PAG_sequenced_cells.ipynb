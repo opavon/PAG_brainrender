{
 "nbformat": 4,
 "nbformat_minor": 2,
 "metadata": {
  "language_info": {
   "name": "python",
   "codemirror_mode": {
    "name": "ipython",
    "version": 3
   },
   "version": "3.7.0-final"
  },
  "orig_nbformat": 2,
  "file_extension": ".py",
  "mimetype": "text/x-python",
  "name": "python",
  "npconvert_exporter": "python",
  "pygments_lexer": "ipython3",
  "version": 3,
  "kernelspec": {
   "name": "python37064bitbrainrenderbrainglobeconda1e7a3e10e11446779d463e60ad73f54c",
   "display_name": "Python 3.7.0 64-bit ('brainrender_brainglobe': conda)"
  }
 },
 "cells": [
  {
   "cell_type": "markdown",
   "metadata": {},
   "source": [
    "# Visualising PAG neurons in CCF space\n",
    "In this notebook we will load the .csv file containing the metadata from our PAG_scRNAseq project and use the CCF coordinates obtained after registration with Sharp-Track to visualise our sequenced cells with Brainrender."
   ],
   "execution_count": null,
   "outputs": []
  },
  {
   "cell_type": "markdown",
   "metadata": {},
   "source": [
    "### 1 | Import packages and set defaults"
   ],
   "execution_count": null,
   "outputs": []
  },
  {
   "cell_type": "code",
   "execution_count": 1,
   "metadata": {},
   "outputs": [],
   "source": [
    "import brainrender\n",
    "from brainrender.scene import Scene, DualScene, MultiScene\n",
    "from brainrender.colors import makePalette, get_random_colors\n",
    "from vedo import embedWindow\n",
    "embedWindow(False)  # Disables scene embedding in jupyter notebooks\n",
    "from brainrender.animation.video import BasicVideoMaker as VideoMaker\n",
    "import pandas as pd # used to load the cwv\n",
    "\n",
    "# // BRAINRENDER DEFAULT SETTINGS //\n",
    "# Change some of the default settings\n",
    "brainrender.SHADER_STYLE = \"cartoon\" # affects the look of rendered brain regions, values can be: [\"metallic\", \"plastic\", \"shiny\", \"glossy\", \"cartoon\"] and can be changed in interactive mode\n",
    "brainrender.BACKGROUND_COLOR = \"white\" # color of the background window (defaults to \"white\", try \"blackboard\")\n",
    "brainrender.ROOT_COLOR = [0.4, 0.4, 0.4] # color of the overall brain model's actor (defaults to [0.4, 0.4, 0.4])\n",
    "brainrender.ROOT_ALPHA = 0.2 # transparency of the overall brain model's actor (defaults to 0.2)\n",
    "brainrender.DEFAULT_SCREENSHOT_NAME = \"PAG_aspirated_cells\" # screenshots will have this name and the time at which they were taken\n",
    "brainrender.DEFAULT_SCREENSHOT_TYPE = \".png\" # png, svg or jpg supported\n",
    "brainrender.DEFAULT_SCREENSHOT_SCALE = 1 # values >1 yield higher resolution screenshots\n",
    "brainrender.SCREENSHOT_TRANSPARENT_BACKGROUND = True # whether to save screenshots with transparent background\n",
    "\n",
    "# // SET PARAMETERS //\n",
    "# Save folder\n",
    "save_folder = \"D:/Dropbox (UCL - SWC)/Project_transcriptomics/analysis/PAG_scRNAseq_brainrender/output\"\n",
    "\n",
    "# Create screenshot parameters\n",
    "screenshot_params = dict(folder = save_folder, name = \"PAG_scRNAseq_brainrender\")"
   ]
  },
  {
   "cell_type": "markdown",
   "metadata": {},
   "source": [
    "### 2 | Load metadata including CCF coordinates\n",
    "Other options to load registered points include `add_cells_from_file` and `get_probe_points_from_sharptrack`."
   ],
   "execution_count": null,
   "outputs": []
  },
  {
   "cell_type": "code",
   "execution_count": 2,
   "metadata": {},
   "outputs": [
    {
     "output_type": "execute_result",
     "data": {
      "text/plain": "   Unnamed: 0   sequencing.id  date.collection                    sample.id  \\\n0           1  GC.OP.7836.EBR           180518  dmpag_vglut2_180518_c20_EBR   \n1           2  GC.OP.7836.EBT           180518  dmpag_vglut2_180518_c22_EBT   \n2           3  GC.OP.7836.EBU           180518  dlpag_vglut2_180518_c23_EBU   \n3           4  GC.OP.7836.EBV           180518   lpag_vglut2_180518_c24_EBV   \n4           5  GC.OP.7836.ECZ           180607   dlpag_vglut2_180607_c6_ECZ   \n\n   sample.number mouse.id mouse.sex  mouse.age  mouse.singlehousedays cell.id  \\\n0             20   CE51.2         F        7.0                      0     EBR   \n1             22   CE51.2         F        7.0                      0     EBT   \n2             23   CE51.2         F        7.0                      0     EBU   \n3             24   CE51.2         F        7.0                      0     EBV   \n4              6  BJ162.2         M        7.3                      0     ECZ   \n\n   ... RT.machine RT.time preamp.date preamp.machine  preamp.time  \\\n0  ...    classic   16:09      180603        classic        18:45   \n1  ...    classic   16:09      180603        classic        18:45   \n2  ...    classic   16:09      180603        classic        18:45   \n3  ...    classic   16:09      180603        classic        18:45   \n4  ...    classic   22:00      180608    non-classic        14:17   \n\n   date.purification  date.nanodrop  date.qubit  date.bioanalyzer  \\\n0             180605       180606.0    180606.0          180618.0   \n1             180605       180606.0    180606.0          180618.0   \n2             180605       180606.0    180606.0          180618.0   \n3             180605       180606.0    180606.0          180618.0   \n4             180609       180609.0    180609.0          180609.0   \n\n   batch.sequencing_round  \n0                       1  \n1                       1  \n2                       1  \n3                       1  \n4                       1  \n\n[5 rows x 45 columns]",
      "text/html": "<div>\n<style scoped>\n    .dataframe tbody tr th:only-of-type {\n        vertical-align: middle;\n    }\n\n    .dataframe tbody tr th {\n        vertical-align: top;\n    }\n\n    .dataframe thead th {\n        text-align: right;\n    }\n</style>\n<table border=\"1\" class=\"dataframe\">\n  <thead>\n    <tr style=\"text-align: right;\">\n      <th></th>\n      <th>Unnamed: 0</th>\n      <th>sequencing.id</th>\n      <th>date.collection</th>\n      <th>sample.id</th>\n      <th>sample.number</th>\n      <th>mouse.id</th>\n      <th>mouse.sex</th>\n      <th>mouse.age</th>\n      <th>mouse.singlehousedays</th>\n      <th>cell.id</th>\n      <th>...</th>\n      <th>RT.machine</th>\n      <th>RT.time</th>\n      <th>preamp.date</th>\n      <th>preamp.machine</th>\n      <th>preamp.time</th>\n      <th>date.purification</th>\n      <th>date.nanodrop</th>\n      <th>date.qubit</th>\n      <th>date.bioanalyzer</th>\n      <th>batch.sequencing_round</th>\n    </tr>\n  </thead>\n  <tbody>\n    <tr>\n      <th>0</th>\n      <td>1</td>\n      <td>GC.OP.7836.EBR</td>\n      <td>180518</td>\n      <td>dmpag_vglut2_180518_c20_EBR</td>\n      <td>20</td>\n      <td>CE51.2</td>\n      <td>F</td>\n      <td>7.0</td>\n      <td>0</td>\n      <td>EBR</td>\n      <td>...</td>\n      <td>classic</td>\n      <td>16:09</td>\n      <td>180603</td>\n      <td>classic</td>\n      <td>18:45</td>\n      <td>180605</td>\n      <td>180606.0</td>\n      <td>180606.0</td>\n      <td>180618.0</td>\n      <td>1</td>\n    </tr>\n    <tr>\n      <th>1</th>\n      <td>2</td>\n      <td>GC.OP.7836.EBT</td>\n      <td>180518</td>\n      <td>dmpag_vglut2_180518_c22_EBT</td>\n      <td>22</td>\n      <td>CE51.2</td>\n      <td>F</td>\n      <td>7.0</td>\n      <td>0</td>\n      <td>EBT</td>\n      <td>...</td>\n      <td>classic</td>\n      <td>16:09</td>\n      <td>180603</td>\n      <td>classic</td>\n      <td>18:45</td>\n      <td>180605</td>\n      <td>180606.0</td>\n      <td>180606.0</td>\n      <td>180618.0</td>\n      <td>1</td>\n    </tr>\n    <tr>\n      <th>2</th>\n      <td>3</td>\n      <td>GC.OP.7836.EBU</td>\n      <td>180518</td>\n      <td>dlpag_vglut2_180518_c23_EBU</td>\n      <td>23</td>\n      <td>CE51.2</td>\n      <td>F</td>\n      <td>7.0</td>\n      <td>0</td>\n      <td>EBU</td>\n      <td>...</td>\n      <td>classic</td>\n      <td>16:09</td>\n      <td>180603</td>\n      <td>classic</td>\n      <td>18:45</td>\n      <td>180605</td>\n      <td>180606.0</td>\n      <td>180606.0</td>\n      <td>180618.0</td>\n      <td>1</td>\n    </tr>\n    <tr>\n      <th>3</th>\n      <td>4</td>\n      <td>GC.OP.7836.EBV</td>\n      <td>180518</td>\n      <td>lpag_vglut2_180518_c24_EBV</td>\n      <td>24</td>\n      <td>CE51.2</td>\n      <td>F</td>\n      <td>7.0</td>\n      <td>0</td>\n      <td>EBV</td>\n      <td>...</td>\n      <td>classic</td>\n      <td>16:09</td>\n      <td>180603</td>\n      <td>classic</td>\n      <td>18:45</td>\n      <td>180605</td>\n      <td>180606.0</td>\n      <td>180606.0</td>\n      <td>180618.0</td>\n      <td>1</td>\n    </tr>\n    <tr>\n      <th>4</th>\n      <td>5</td>\n      <td>GC.OP.7836.ECZ</td>\n      <td>180607</td>\n      <td>dlpag_vglut2_180607_c6_ECZ</td>\n      <td>6</td>\n      <td>BJ162.2</td>\n      <td>M</td>\n      <td>7.3</td>\n      <td>0</td>\n      <td>ECZ</td>\n      <td>...</td>\n      <td>classic</td>\n      <td>22:00</td>\n      <td>180608</td>\n      <td>non-classic</td>\n      <td>14:17</td>\n      <td>180609</td>\n      <td>180609.0</td>\n      <td>180609.0</td>\n      <td>180609.0</td>\n      <td>1</td>\n    </tr>\n  </tbody>\n</table>\n<p>5 rows × 45 columns</p>\n</div>"
     },
     "metadata": {},
     "execution_count": 2
    }
   ],
   "source": [
    "# Load data\n",
    "pag_data = pd.read_csv(\"D:\\\\Dropbox (UCL - SWC)\\\\Project_transcriptomics\\\\analysis\\\\PAG_scRNAseq_brainrender\\\\PAG_scRNAseq_metadata_200617.csv\")\n",
    "\n",
    "# Look at the first 5 rows of the metadata\n",
    "pag_data.head()"
   ]
  },
  {
   "cell_type": "code",
   "execution_count": 3,
   "metadata": {},
   "outputs": [
    {
     "output_type": "execute_result",
     "data": {
      "text/plain": "Index(['Unnamed: 0', 'sequencing.id', 'date.collection', 'sample.id',\n       'sample.number', 'mouse.id', 'mouse.sex', 'mouse.age',\n       'mouse.singlehousedays', 'cell.id', 'cell.type', 'cell.fluorophore',\n       'patch.recorded', 'pipette.RNAseOUT', 'slice.number', 'slice.depth',\n       'CCF.AllenAP', 'CCF.AllenDV', 'CCF.AllenML', 'CCF.AllenIndex',\n       'CCF.AllenArea', 'CCF.PaxinosIndex', 'CCF.PaxinosArea',\n       'PAG.hemisphere', 'PAG.PaxinosAPmanual', 'PAG.areacollection',\n       'PAG.areamanualregistration', 'PAG.arearegistration', 'time.aspiration',\n       'time.slicing', 'time.sinceslicingexact', 'time.sinceslicinghour',\n       'batch.processing', 'RT.oligo', 'RT.date', 'RT.machine', 'RT.time',\n       'preamp.date', 'preamp.machine', 'preamp.time', 'date.purification',\n       'date.nanodrop', 'date.qubit', 'date.bioanalyzer',\n       'batch.sequencing_round'],\n      dtype='object')"
     },
     "metadata": {},
     "execution_count": 3
    }
   ],
   "source": [
    "# List all column names in data\n",
    "pag_data.columns"
   ]
  },
  {
   "cell_type": "markdown",
   "metadata": {},
   "source": [
    "#### 2.1 | Scaling up coordinates"
   ],
   "execution_count": null,
   "outputs": []
  },
  {
   "cell_type": "code",
   "execution_count": 4,
   "metadata": {},
   "outputs": [
    {
     "output_type": "execute_result",
     "data": {
      "text/plain": "    cell.id cell.type PAG.areamanualregistration  CCF.AllenAP  CCF.AllenDV  \\\n0       EBR    VGluT2                      dmpag          993          235   \n1       EBT    VGluT2                      dmpag          993          231   \n2       EBU    VGluT2                      dlpag          990          242   \n3       EBV    VGluT2                      vlpag          993          302   \n4       ECZ    VGluT2                      dlpag          939          250   \n..      ...       ...                        ...          ...          ...   \n511    WIBC      VGAT                      dmpag          921          251   \n512    WIBD      VGAT                      dmpag          921          247   \n513    WIBE      VGAT                      dmpag          921          241   \n514    WIBF      VGAT                      dmpag          993          229   \n515    WIBG      VGAT                      dmpag          993          227   \n\n     CCF.AllenML  \n0            549  \n1            594  \n2            618  \n3            525  \n4            525  \n..           ...  \n511          592  \n512          580  \n513          552  \n514          592  \n515          554  \n\n[516 rows x 6 columns]",
      "text/html": "<div>\n<style scoped>\n    .dataframe tbody tr th:only-of-type {\n        vertical-align: middle;\n    }\n\n    .dataframe tbody tr th {\n        vertical-align: top;\n    }\n\n    .dataframe thead th {\n        text-align: right;\n    }\n</style>\n<table border=\"1\" class=\"dataframe\">\n  <thead>\n    <tr style=\"text-align: right;\">\n      <th></th>\n      <th>cell.id</th>\n      <th>cell.type</th>\n      <th>PAG.areamanualregistration</th>\n      <th>CCF.AllenAP</th>\n      <th>CCF.AllenDV</th>\n      <th>CCF.AllenML</th>\n    </tr>\n  </thead>\n  <tbody>\n    <tr>\n      <th>0</th>\n      <td>EBR</td>\n      <td>VGluT2</td>\n      <td>dmpag</td>\n      <td>993</td>\n      <td>235</td>\n      <td>549</td>\n    </tr>\n    <tr>\n      <th>1</th>\n      <td>EBT</td>\n      <td>VGluT2</td>\n      <td>dmpag</td>\n      <td>993</td>\n      <td>231</td>\n      <td>594</td>\n    </tr>\n    <tr>\n      <th>2</th>\n      <td>EBU</td>\n      <td>VGluT2</td>\n      <td>dlpag</td>\n      <td>990</td>\n      <td>242</td>\n      <td>618</td>\n    </tr>\n    <tr>\n      <th>3</th>\n      <td>EBV</td>\n      <td>VGluT2</td>\n      <td>vlpag</td>\n      <td>993</td>\n      <td>302</td>\n      <td>525</td>\n    </tr>\n    <tr>\n      <th>4</th>\n      <td>ECZ</td>\n      <td>VGluT2</td>\n      <td>dlpag</td>\n      <td>939</td>\n      <td>250</td>\n      <td>525</td>\n    </tr>\n    <tr>\n      <th>...</th>\n      <td>...</td>\n      <td>...</td>\n      <td>...</td>\n      <td>...</td>\n      <td>...</td>\n      <td>...</td>\n    </tr>\n    <tr>\n      <th>511</th>\n      <td>WIBC</td>\n      <td>VGAT</td>\n      <td>dmpag</td>\n      <td>921</td>\n      <td>251</td>\n      <td>592</td>\n    </tr>\n    <tr>\n      <th>512</th>\n      <td>WIBD</td>\n      <td>VGAT</td>\n      <td>dmpag</td>\n      <td>921</td>\n      <td>247</td>\n      <td>580</td>\n    </tr>\n    <tr>\n      <th>513</th>\n      <td>WIBE</td>\n      <td>VGAT</td>\n      <td>dmpag</td>\n      <td>921</td>\n      <td>241</td>\n      <td>552</td>\n    </tr>\n    <tr>\n      <th>514</th>\n      <td>WIBF</td>\n      <td>VGAT</td>\n      <td>dmpag</td>\n      <td>993</td>\n      <td>229</td>\n      <td>592</td>\n    </tr>\n    <tr>\n      <th>515</th>\n      <td>WIBG</td>\n      <td>VGAT</td>\n      <td>dmpag</td>\n      <td>993</td>\n      <td>227</td>\n      <td>554</td>\n    </tr>\n  </tbody>\n</table>\n<p>516 rows × 6 columns</p>\n</div>"
     },
     "metadata": {},
     "execution_count": 4
    }
   ],
   "source": [
    "# Inspect the CCF coordinates for each cell\n",
    "pag_data[[\"cell.id\", \"cell.type\", \"PAG.areamanualregistration\", \"CCF.AllenAP\", \"CCF.AllenDV\", \"CCF.AllenML\"]]"
   ]
  },
  {
   "cell_type": "code",
   "execution_count": 5,
   "metadata": {},
   "outputs": [
    {
     "output_type": "execute_result",
     "data": {
      "text/plain": "    cell.id cell.type  CCF.AllenAP  CCF.AllenDV  CCF.AllenML\n0       EBR    VGluT2         9930         2350         5490\n1       EBT    VGluT2         9930         2310         5940\n2       EBU    VGluT2         9900         2420         6180\n3       EBV    VGluT2         9930         3020         5250\n4       ECZ    VGluT2         9390         2500         5250\n..      ...       ...          ...          ...          ...\n511    WIBC      VGAT         9210         2510         5920\n512    WIBD      VGAT         9210         2470         5800\n513    WIBE      VGAT         9210         2410         5520\n514    WIBF      VGAT         9930         2290         5920\n515    WIBG      VGAT         9930         2270         5540\n\n[516 rows x 5 columns]",
      "text/html": "<div>\n<style scoped>\n    .dataframe tbody tr th:only-of-type {\n        vertical-align: middle;\n    }\n\n    .dataframe tbody tr th {\n        vertical-align: top;\n    }\n\n    .dataframe thead th {\n        text-align: right;\n    }\n</style>\n<table border=\"1\" class=\"dataframe\">\n  <thead>\n    <tr style=\"text-align: right;\">\n      <th></th>\n      <th>cell.id</th>\n      <th>cell.type</th>\n      <th>CCF.AllenAP</th>\n      <th>CCF.AllenDV</th>\n      <th>CCF.AllenML</th>\n    </tr>\n  </thead>\n  <tbody>\n    <tr>\n      <th>0</th>\n      <td>EBR</td>\n      <td>VGluT2</td>\n      <td>9930</td>\n      <td>2350</td>\n      <td>5490</td>\n    </tr>\n    <tr>\n      <th>1</th>\n      <td>EBT</td>\n      <td>VGluT2</td>\n      <td>9930</td>\n      <td>2310</td>\n      <td>5940</td>\n    </tr>\n    <tr>\n      <th>2</th>\n      <td>EBU</td>\n      <td>VGluT2</td>\n      <td>9900</td>\n      <td>2420</td>\n      <td>6180</td>\n    </tr>\n    <tr>\n      <th>3</th>\n      <td>EBV</td>\n      <td>VGluT2</td>\n      <td>9930</td>\n      <td>3020</td>\n      <td>5250</td>\n    </tr>\n    <tr>\n      <th>4</th>\n      <td>ECZ</td>\n      <td>VGluT2</td>\n      <td>9390</td>\n      <td>2500</td>\n      <td>5250</td>\n    </tr>\n    <tr>\n      <th>...</th>\n      <td>...</td>\n      <td>...</td>\n      <td>...</td>\n      <td>...</td>\n      <td>...</td>\n    </tr>\n    <tr>\n      <th>511</th>\n      <td>WIBC</td>\n      <td>VGAT</td>\n      <td>9210</td>\n      <td>2510</td>\n      <td>5920</td>\n    </tr>\n    <tr>\n      <th>512</th>\n      <td>WIBD</td>\n      <td>VGAT</td>\n      <td>9210</td>\n      <td>2470</td>\n      <td>5800</td>\n    </tr>\n    <tr>\n      <th>513</th>\n      <td>WIBE</td>\n      <td>VGAT</td>\n      <td>9210</td>\n      <td>2410</td>\n      <td>5520</td>\n    </tr>\n    <tr>\n      <th>514</th>\n      <td>WIBF</td>\n      <td>VGAT</td>\n      <td>9930</td>\n      <td>2290</td>\n      <td>5920</td>\n    </tr>\n    <tr>\n      <th>515</th>\n      <td>WIBG</td>\n      <td>VGAT</td>\n      <td>9930</td>\n      <td>2270</td>\n      <td>5540</td>\n    </tr>\n  </tbody>\n</table>\n<p>516 rows × 5 columns</p>\n</div>"
     },
     "metadata": {},
     "execution_count": 5
    }
   ],
   "source": [
    "# Scale up data\n",
    "scale_factor = 10 # sharptrack uses a 10um reference atlas so the coordinates need to be scaled to match brainrender's\n",
    "\n",
    "pag_data[\"CCF.AllenAP\"] *= scale_factor\n",
    "pag_data[\"CCF.AllenDV\"] *= scale_factor\n",
    "pag_data[\"CCF.AllenML\"] *= scale_factor\n",
    "\n",
    "pag_data[[\"cell.id\", \"cell.type\", \"CCF.AllenAP\", \"CCF.AllenDV\", \"CCF.AllenML\"]]"
   ]
  },
  {
   "cell_type": "markdown",
   "metadata": {},
   "source": [
    "### 3 | Selecting a subset of cells\n",
    "We can start by using the metadata to select subsets of cells. This will be useful to either just render some of the cells, or to color cells based on some metadata info.\n",
    "\n",
    "The CCF coordinates were obtained by registering images to the Allen Brain Atlas using Sharp-Track (see Shamash et al. bioRxiv 2018 and https://github.com/cortex-lab/allenCCF), which yields coordinates at a resolution of 10 micrometers. In the Allen Brain Atlas, a point at coordinates \\[1, 0, 0\\] is at 10um from the origin (in other words, 1 unit of the atlas space equals 10um). However, BrainRender's space is at 1um resolution, so the first thing we need to do is to scale up the coordinate values by 10 to get them to match correctly."
   ],
   "execution_count": null,
   "outputs": []
  },
  {
   "cell_type": "code",
   "execution_count": null,
   "metadata": {},
   "outputs": [],
   "source": [
    "brainrender.SHOW_AXES = True\n",
    "scene = Scene()\n",
    "scene.render() # make sure to press 'Esc' to close not 'q' or kernel diesscene.render(interactive = True, video = False, camera = \"sagittal\", zoom = 1)"
   ]
  },
  {
   "cell_type": "code",
   "execution_count": null,
   "metadata": {},
   "outputs": [],
   "source": [
    "# We can subset cells using any criteria we want. For instance, let's keep only those cells coming from female mice\n",
    "cells_hemisphere_right = pag_data.loc[pag_data[\"PAG.hemisphere\"] == \"right\"]\n",
    "cells_hemisphere_left = pag_data.loc[pag_data[\"PAG.hemisphere\"] == \"left\"]\n",
    "cells_hemisphere_right.head()"
   ]
  },
  {
   "cell_type": "code",
   "execution_count": null,
   "metadata": {},
   "outputs": [],
   "source": [
    "# We can also use multiple criteria at the same time\n",
    "vgat_cells_hemisphere_left = pag_data.loc[(pag_data[\"PAG.hemisphere\"] == \"left\")&(pag_data[\"cell.type\"] == \"VGAT\")]\n",
    "vgat_cells_hemisphere_left.head()"
   ]
  },
  {
   "cell_type": "markdown",
   "metadata": {},
   "source": [
    "### 4 | Rendering cells with Brainrender\n",
    "Now that we can select the data appropriately, we can render our cells in Brainrender and colour them according to any metadata we want. We will prepare different renderings in each of the following code chunks."
   ],
   "execution_count": null,
   "outputs": []
  },
  {
   "cell_type": "markdown",
   "metadata": {},
   "source": [
    "#### 4.1 | Rendering VGAT and VGluT2 cells separately"
   ],
   "execution_count": null,
   "outputs": []
  },
  {
   "cell_type": "code",
   "execution_count": null,
   "metadata": {},
   "outputs": [],
   "source": [
    "brainrender.SHOW_AXES = False # Set this back to False\n",
    "\n",
    "# Create a variable containing the XYZ coordinates of the cells.\n",
    "column_names = [\"CCF.AllenAP\", \"CCF.AllenDV\", \"CCF.AllenML\"] # name of the columns containing the CCF coordinates\n",
    "\n",
    "# Let's color cells according to whether they are excitatory or inhibitory:\n",
    "vgat_cells = pag_data.loc[pag_data[\"cell.type\"] == \"VGAT\"]\n",
    "vglut2_cells =  pag_data.loc[pag_data[\"cell.type\"] == \"VGluT2\"]\n",
    "\n",
    "# // CREATE SCENE //\n",
    "# Create a scene with no title. You can also use scene.add_text to add other text elsewhere in the scene\n",
    "scene = Scene(display_inset = True, title = None, camera = \"sagittal\", screenshot_kwargs = screenshot_params)\n",
    "# Set add_root = False to focus only on the desired brain area\n",
    "\n",
    "# // ADD CELLS//\n",
    "scene.add_cells(vgat_cells, color = \"salmon\", col_names = column_names, res = 24)\n",
    "scene.add_cells(vglut2_cells, color = \"skyblue\", col_names = column_names, res = 24)\n",
    "\n",
    "# // RENDER INTERACTIVELY //\n",
    "# Render interactively. You can press \"s\" to take a screenshot\n",
    "scene.render(interactive = True, video = False, camera = \"sagittal\", zoom = 1) # press 'Esc' to close not 'q' or kernel dies"
   ]
  },
  {
   "cell_type": "markdown",
   "metadata": {},
   "source": [
    "#### 4.2 | Rendering cells from each hemisphere separately"
   ],
   "execution_count": null,
   "outputs": []
  },
  {
   "cell_type": "code",
   "execution_count": null,
   "metadata": {},
   "outputs": [],
   "source": [
    "scene = Scene()\n",
    "scene.add_cells(cells_hemisphere_right, color = \"salmon\", col_names = column_names, alpha = 1, radius = 25, res = 24)\n",
    "scene.add_cells(cells_hemisphere_left, color = \"skyblue\", col_names = column_names, alpha = 1, radius = 25, res = 24)\n",
    "\n",
    "scene.render(interactive = True, video = False, camera = \"sagittal\", zoom = 1) # make sure to press 'Esc' to close not 'q' or kernel dies"
   ]
  },
  {
   "cell_type": "markdown",
   "metadata": {},
   "source": [
    "#### 4.3 | Coloring cells by metadata (can't speficy the colors for now)"
   ],
   "execution_count": null,
   "outputs": []
  },
  {
   "cell_type": "code",
   "execution_count": null,
   "metadata": {},
   "outputs": [],
   "source": [
    "# Another (easier) way to color cells based on some metadata attribute is as follows. However, at the moment this doesn't allow us to decide which color is assigned to each category\n",
    "scene = Scene()\n",
    "scene.add_cells( # Renders cells given their coordinates as a collection of spheres.\n",
    "    pag_data, # pandas dataframe containing x,y,z coordinates\n",
    "    color = \"salmon\", # str, color of spheres used to render the cells (Default value = \"red\"). Alternatively a list of colors specifying the color of each cell.\n",
    "    color_by_region = None, # bool. If true the cells are colored according to the color of the brain region they are in\n",
    "    color_by_metadata = \"PAG.areamanualregistration\", # str, if the name of a column of the coords dataframe is passed, cells are colored according to their value for that column. \n",
    "    radius = 25, # int, radius of spheres used to render the cells (Default value = 25)\n",
    "    res = 24, # int, resolution of spheres used to render the cells (Default value = 3)\n",
    "    alpha = 1, # float, transparency of spheres used to render the cells (Default value = 1)\n",
    "    col_names = column_names, # ist of strings with names of pandas dataframe columns. If passed it should be a list of 3 columns which have the x, y, z coordinates. If not passed, it is assumed that the columns are ['x', 'y', 'z']\n",
    "    regions=None, # if a list of brain regions acronym is passed, only cells in these regions will be added to the scene\n",
    "    verbose=True,\n",
    "    )\n",
    "\n",
    "scene.render(interactive = True, video = False, camera = \"sagittal\", zoom = 1)"
   ]
  },
  {
   "cell_type": "markdown",
   "metadata": {},
   "source": [
    "#### 4.4 | Rendering VGAT and VGluT2 cells separately"
   ],
   "execution_count": null,
   "outputs": []
  },
  {
   "cell_type": "code",
   "execution_count": null,
   "metadata": {},
   "outputs": [],
   "source": [
    "brainrender.SHADER_STYLE = \"cartoon\"\n",
    "brainrender.BACKGROUND_COLOR = \"white\"\n",
    "\n",
    "# // CREATE SCENE //\n",
    "# Create a scene with no title. You can also use scene.add_text to add other text elsewhere in the scene\n",
    "scene = Scene(display_inset = True, title = None, camera = \"sagittal\", screenshot_kwargs = screenshot_params)\n",
    "# Set add_root = False to focus only on the desired brain area\n",
    "\n",
    "# // ADD BRAIN REGIONS //\n",
    "# Add brain regions with scene.add_brain_regions\n",
    "pag = scene.add_brain_regions([\"PAG\"], \n",
    "    alpha = 0.2, color = \"darkgoldenrod\", add_labels = False, use_original_color = False, wireframe = False)\n",
    "dorsal_raphe = scene.add_brain_regions([\"DR\"], \n",
    "    alpha = 0.2, color = \"olivedrab\", add_labels = False, use_original_color = False, wireframe = True)\n",
    "superior_colliculus = scene.add_brain_regions([\"SCdg\", \"SCdw\", \"SCig\", \"SCiw\", \"SCm\", \"SCop\", \"SCs\", \"SCsg\", \"SCzo\"],\n",
    "    alpha = 0.2, color = \"olivedrab\", add_labels = False, use_original_color = False, wireframe = True)\n",
    "\n",
    "# // ADD CELLS//\n",
    "scene.add_cells(pag_data, color = \"darkseagreen\", col_names = column_names, color_by_metadata = \"CCF.PaxinosArea\",\n",
    "                res = 24) # res -> resolution of spheres\n",
    "\n",
    "\n",
    "# # // ADD LABELS //\n",
    "# # Add labels with scene.add_actor_label\n",
    "# scene.add_actor_label(pag, \"PAG\", size = 400, color = \"blackboard\", xoffset = 0, yoffset = 0, radius = None)\n",
    "# scene.add_actor_label(superior_colliculus, \"SC\", size = 400, color = \"blackboard\", xoffset = 0, yoffset = 0, radius = None)\n",
    "# scene.add_actor_label(dorsal_raphe, \"DRN\", size = 400, color = \"blackboard\", xoffset = 0, yoffset = 0, radius = None)\n",
    "\n",
    "\n",
    "# # // CUT SCENE IN HALF AT DESIRED PLANE //\n",
    "# # Cut scene in half (set showplane = True if you want to see the plane location)\n",
    "# scene.cut_actors_with_plane(\"sagittal\", showplane = False)\n",
    "# # Or cut PAG along the midline\n",
    "# scene.cut_actors_with_plane(\"sagittal\", showplane = False, actors = pag) \n",
    "\n",
    "\n",
    "# # // EXPORT AS HTML //\n",
    "# # Export to a .html file that can be opened in a browser to render an interactive brainrender scene\n",
    "# scene.export_for_web(\"output/PAG_scRNAseq_brainrender.html\") # you can pass a filepath where to save the scene\n",
    "\n",
    "\n",
    "# # // MAKE VIDEO //\n",
    "# # Create an instance of VideoMaker with our scene\n",
    "# vm = VideoMaker(scene,\n",
    "#     save_fld = save_folder, # folder where to save video\n",
    "#     save_name = \"PAG_video_scRNAseq_brainrender\", # video name\n",
    "#     #video_format = \"mp4\", # defaults to mp4\n",
    "#     #duration = 3, # video duration in seconds (defaults to 3)\n",
    "#     #niters = 60, # number of iterations (frames) when creating the video (defaults to 60)\n",
    "#     #fps = 30 # framerate of video (defaults to 30)\n",
    "#     ) \n",
    "\n",
    "# # Make a video and specify how the scene rotates at each frame. You can also change several parameters (destination folder, video name, fps, duration, etc.) specified above\n",
    "# vm.make_video(azimuth = 1, elevation = 1, roll = 0, # rotation in degrees per frame on the relative axis    \n",
    "#     save_fld = save_folder, save_name = \"PAG_video_scRNAseq_brainrender\",\n",
    "#     video_format = \"avi\", duration = 5, niters = 50, fps = 30)\n",
    "\n",
    "\n",
    "# // RENDER INTERACTIVELY //\n",
    "# Render interactively. You can press \"s\" to take a screenshot\n",
    "scene.render(interactive = True, video = False, camera = \"sagittal\", zoom = 1) # press 'Esc' to close not 'q' or kernel dies"
   ]
  },
  {
   "cell_type": "markdown",
   "metadata": {},
   "source": [
    "### 5 | Dual scenes \\[work in progress\\]"
   ],
   "execution_count": null,
   "outputs": []
  },
  {
   "cell_type": "code",
   "execution_count": null,
   "metadata": {},
   "outputs": [],
   "source": [
    "# Let's color cells according to whether they are excitatory or inhibitory:\n",
    "vgat_cells = pag_data.loc[pag_data[\"cell.type\"] == \"VGAT\"]\n",
    "vglut2_cells =  pag_data.loc[pag_data[\"cell.type\"] == \"VGluT2\"]\n",
    "\n",
    "# // CREATE SCENE //\n",
    "# Create a scene with no title. You can also use scene.add_text to add other text elsewhere in the scene\n",
    "scene_vgat = Scene(display_inset = True, title = None, camera = \"sagittal\", screenshot_kwargs = screenshot_params)\n",
    "scene_vglut2 = Scene(display_inset = True, title = None, camera = \"sagittal\", screenshot_kwargs = screenshot_params)\n",
    "\n",
    "# // CREATE DUAL SCENE //\n",
    "scene_dual = DualScene[scene_vgat, scene_vglut2]\n",
    "\n",
    "# // ADD CELLS//\n",
    "scene_vgat.add_cells(vgat_cells, color = \"salmon\", col_names = column_names, res = 24)\n",
    "scene_vglut2.add_cells(vglut2_cells, color = \"skyblue\", col_names = column_names, res = 24)\n",
    "\n",
    "# // RENDER INTERACTIVELY //\n",
    "# Render interactively. You can press \"s\" to take a screenshot\n",
    "scene_dual.render(interactive = True, video = False, camera = \"sagittal\", zoom = 1) # press 'Esc' to close not 'q' or kernel dies"
   ]
  },
  {
   "cell_type": "markdown",
   "metadata": {},
   "source": [
    "### 6 | Use enhanced Franklin-Paxinos atlas (Chon et al. 2019)"
   ],
   "execution_count": null,
   "outputs": []
  },
  {
   "cell_type": "markdown",
   "metadata": {},
   "source": [
    "Using the enhanced atlas we can use the registered coordinates to obtain the PAG subdivision each cell belongs to."
   ],
   "execution_count": null,
   "outputs": []
  },
  {
   "cell_type": "code",
   "execution_count": null,
   "metadata": {},
   "outputs": [],
   "source": [
    "# Run this to get a list of the available atlases:\n",
    "import brainatlas_api\n",
    "from brainatlas_api import list_atlases\n",
    "list_atlases()"
   ]
  },
  {
   "cell_type": "code",
   "execution_count": 1,
   "metadata": {},
   "outputs": [
    {
     "output_type": "error",
     "ename": "NameError",
     "evalue": "name 'Scene' is not defined",
     "traceback": [
      "\u001b[1;31m---------------------------------------------------------------------------\u001b[0m",
      "\u001b[1;31mNameError\u001b[0m                                 Traceback (most recent call last)",
      "\u001b[1;32m<ipython-input-1-73c41ea607d3>\u001b[0m in \u001b[0;36m<module>\u001b[1;34m\u001b[0m\n\u001b[0;32m      3\u001b[0m \u001b[1;31m# kim_unified_25um_v0.1\u001b[0m\u001b[1;33m\u001b[0m\u001b[1;33m\u001b[0m\u001b[0m\n\u001b[0;32m      4\u001b[0m \u001b[1;33m\u001b[0m\u001b[0m\n\u001b[1;32m----> 5\u001b[1;33m \u001b[0mscene\u001b[0m \u001b[1;33m=\u001b[0m \u001b[0mScene\u001b[0m\u001b[1;33m(\u001b[0m\u001b[0mdisplay_inset\u001b[0m \u001b[1;33m=\u001b[0m \u001b[1;32mFalse\u001b[0m\u001b[1;33m,\u001b[0m \u001b[0mtitle\u001b[0m \u001b[1;33m=\u001b[0m \u001b[1;32mNone\u001b[0m\u001b[1;33m,\u001b[0m \u001b[0mcamera\u001b[0m \u001b[1;33m=\u001b[0m \u001b[1;34m\"sagittal\"\u001b[0m\u001b[1;33m,\u001b[0m \u001b[0matlas\u001b[0m \u001b[1;33m=\u001b[0m \u001b[1;34m'kim_unified_50um_v0.1'\u001b[0m\u001b[1;33m)\u001b[0m\u001b[1;33m\u001b[0m\u001b[0m\n\u001b[0m\u001b[0;32m      6\u001b[0m scene.add_brain_regions([\"DLPAG\", \"DMPAG\", \"LPAG\", \"VLPAG\"],\n\u001b[0;32m      7\u001b[0m     colors = get_random_colors(4), use_original_colo = False)\n",
      "\u001b[1;31mNameError\u001b[0m: name 'Scene' is not defined"
     ]
    }
   ],
   "source": [
    "# To use the atlas with PAG subdivisions, try:\n",
    "# kim_unified_50um_v0.1\n",
    "# kim_unified_25um_v0.1\n",
    "\n",
    "scene = Scene(display_inset = False, title = None, camera = \"sagittal\", atlas = 'kim_unified_50um_v0.1')\n",
    "scene.add_brain_regions([\"DLPAG\", \"DMPAG\", \"LPAG\", \"VLPAG\"],\n",
    "    colors = get_random_colors(4), use_original_colo = False)\n",
    "    #colors = dict(DLPAG = \"blackboard\", DMPAG = \"olivedrab\", LPAG = \"lightgreen\", VLPAG = \"red\"), use_original_color = False)\n",
    "scene.render(interactive = True, video = False, camera = \"sagittal\", zoom = 1) # press 'Esc' to close not 'q' or kernel dies"
   ]
  },
  {
   "cell_type": "code",
   "execution_count": null,
   "metadata": {},
   "outputs": [],
   "source": [
    "coordinates = pag_data[[\"CCF.AllenAP\", \"CCF.AllenDV\", \"CCF.AllenML\"]]\n",
    "\n",
    "# Try the following to get the PAG area from the coordinates.\n",
    "cell_region = scene.atlas.get_structure_from_coordinates(coordinates)\n",
    "print(cell_region)"
   ]
  }
 ]
}